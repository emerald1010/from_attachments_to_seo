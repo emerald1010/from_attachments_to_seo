{
 "cells": [
  {
   "cell_type": "code",
   "execution_count": null,
   "metadata": {},
   "outputs": [],
   "source": [
    "import numpy as np\n",
    "from sklearn.cluster import DBSCAN"
   ]
  },
  {
   "cell_type": "code",
   "execution_count": null,
   "metadata": {},
   "outputs": [],
   "source": [
    "#load pre-computed pairwise distances directly to have faster clustering\n",
    "distance_matrix = np.load('pairwise_distances_ConvNet.npy')"
   ]
  },
  {
   "cell_type": "code",
   "execution_count": null,
   "metadata": {},
   "outputs": [],
   "source": [
    "db_clustering = DBSCAN(eps=70, min_samples=5, metric = 'precomputed').fit(distance_matrix)"
   ]
  },
  {
   "cell_type": "code",
   "execution_count": null,
   "metadata": {},
   "outputs": [],
   "source": [
    "labels = db_clustering.labels_\n",
    "# Number of clusters in labels, ignoring noise if present.\n",
    "n_clusters_ = len(set(labels)) - (1 if -1 in labels else 0)\n",
    "print(n_clusters_)\n",
    "n_noise_ = list(labels).count(-1)\n",
    "print(n_noise_)\n"
   ]
  },
  {
   "cell_type": "code",
   "execution_count": null,
   "metadata": {},
   "outputs": [],
   "source": [
    "with open('filehashes_by_idx.txt', 'r') as f:\n",
    "    all_filehashes = f.readlines()"
   ]
  },
  {
   "cell_type": "code",
   "execution_count": null,
   "metadata": {},
   "outputs": [],
   "source": [
    "#save the clusters filehashes, and also the noise class.\n",
    "def get_db_clusters(all_filehashes, labels, num_clusters):\n",
    "    for i in range(0, num_clusters):\n",
    "        cluster_i = np.where(labels == i)[0]\n",
    "        cluster_hashes = []\n",
    "        for one_idx in cluster_i:\n",
    "            cluster_hashes.append(all_filehashes[one_idx].rstrip())\n",
    "        with open('db_clusters/'+str(i)+'.txt', 'w') as f:\n",
    "            for onehash in cluster_hashes:\n",
    "                f.write(onehash+'\\n')\n",
    "                \n",
    "    if -1 in labels:\n",
    "        cluster_noise = np.where(labels == -1)[0]\n",
    "        cluster_hashes = []\n",
    "        for one_idx in cluster_noise:\n",
    "            cluster_hashes.append(all_filehashes[one_idx].rstrip())\n",
    "        with open('db_clusters/'+'noise.txt', 'w') as f:\n",
    "            for onehash in cluster_hashes:\n",
    "                f.write(onehash+'\\n')"
   ]
  },
  {
   "cell_type": "code",
   "execution_count": null,
   "metadata": {},
   "outputs": [],
   "source": [
    "get_db_clusters(all_filehashes, labels, n_clusters_)"
   ]
  },
  {
   "cell_type": "code",
   "execution_count": null,
   "metadata": {},
   "outputs": [],
   "source": []
  }
 ],
 "metadata": {
  "kernelspec": {
   "display_name": "Python 3 (ipykernel)",
   "language": "python",
   "name": "python3"
  },
  "language_info": {
   "codemirror_mode": {
    "name": "ipython",
    "version": 3
   },
   "file_extension": ".py",
   "mimetype": "text/x-python",
   "name": "python",
   "nbconvert_exporter": "python",
   "pygments_lexer": "ipython3",
   "version": "3.11.4"
  }
 },
 "nbformat": 4,
 "nbformat_minor": 4
}
